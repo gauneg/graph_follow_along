{
 "cells": [
  {
   "cell_type": "code",
   "execution_count": 23,
   "metadata": {},
   "outputs": [],
   "source": [
    "import pandas as pd\n",
    "import networkx\n",
    "import numpy as np\n",
    "import networkx as nx\n"
   ]
  },
  {
   "cell_type": "markdown",
   "metadata": {},
   "source": [
    "## Representing a Simple Undirected Graph\n",
    "\n",
    "$G = (V, E)$, where \n",
    "\n",
    "$V = \\{V_1, V_2, ..., V_n\\}$ is a set of nodes (vertex).\n",
    "\n",
    "$E = \\{\\{V_k, V_w\\}, ..., \\{V_i, V_j\\}\\}$ set of two-sets of edges (links) \n",
    "\n",
    "**Order of Graph**: number of vertices $|V|$.\n",
    "\n",
    "**Size of Graph**: Number of edges $|E|$\n",
    "\n",
    "**Degree of vertex**: Number of edges adjacent to it\n",
    "\n",
    "**Neighbours of Vertex (V) in graph G**: It is subset of vertex $V'$ induced by all vertices adjacent to $v$.\n",
    "\n",
    "**Ego Graph, neighborhood graph**: Ego graph of vertex $v$ in a graph $G$, is subgraph of $G$ is composed of the vertices adjacent to $v$ and all edges connecting vertices adjacent to $v$."
   ]
  },
  {
   "cell_type": "code",
   "execution_count": 8,
   "metadata": {},
   "outputs": [],
   "source": [
    "\n",
    "G = nx.Graph()\n",
    "V = {'Dublin', 'Paris', 'Milan', 'Rome'}\n",
    "E = [('Milan', 'Dublin'), ('Milan', 'Paris'), ('Paris', 'Dublin'), ('Milan', 'Rome')]\n",
    "G.add_nodes_from(V)\n",
    "G.add_edges_from(E)"
   ]
  },
  {
   "cell_type": "code",
   "execution_count": 9,
   "metadata": {},
   "outputs": [
    {
     "name": "stdout",
     "output_type": "stream",
     "text": [
      "Graph Order: 4\n",
      "Graph Size: 4\n",
      "{'Dublin': 2, 'Rome': 1, 'Milan': 3, 'Paris': 2}\n",
      "Node: Dublin, Neighbours: ['Milan', 'Paris']\n",
      "Node: Rome, Neighbours: ['Milan']\n",
      "Node: Milan, Neighbours: ['Dublin', 'Paris', 'Rome']\n",
      "Node: Paris, Neighbours: ['Milan', 'Dublin']\n",
      "Ego Graph -> Paris\n",
      "Node: Dublin, Neighbours: ['Milan', 'Paris']\n",
      "Node: Milan, Neighbours: ['Dublin', 'Paris']\n",
      "Node: Paris, Neighbours: ['Dublin', 'Milan']\n"
     ]
    }
   ],
   "source": [
    "print(f'Graph Order: {G.order()}')\n",
    "print(f'Graph Size: {G.size()}')\n",
    "\n",
    "## accessing the nodes\n",
    "## Iterating through all the nodes and checking the degree of the node in the graph\n",
    "print({v: G.degree(v) for v in G.nodes})\n",
    "\n",
    "## accesing all the neighbors of the nodes\n",
    "\n",
    "for node in G.nodes:\n",
    "    print(f'Node: {node}, Neighbours: {list(G.neighbors(node))}')\n",
    "\n",
    "## Ego Graphs\n",
    "\n",
    "g_ego = nx.ego_graph(G, 'Paris')\n",
    "\n",
    "print('Ego Graph -> Paris')\n",
    "for node in g_ego.nodes:\n",
    "    print(f'Node: {node}, Neighbours: {list(g_ego.neighbors(node))}')"
   ]
  },
  {
   "cell_type": "code",
   "execution_count": 12,
   "metadata": {},
   "outputs": [],
   "source": [
    "G.remove_nodes_from({'Dublin'})"
   ]
  },
  {
   "cell_type": "code",
   "execution_count": 13,
   "metadata": {},
   "outputs": [
    {
     "data": {
      "text/plain": [
       "EdgeView([('Rome', 'Milan'), ('Milan', 'Paris')])"
      ]
     },
     "execution_count": 13,
     "metadata": {},
     "output_type": "execute_result"
    }
   ],
   "source": [
    "G.edges()"
   ]
  },
  {
   "cell_type": "markdown",
   "metadata": {},
   "source": [
    "## Digraphs: Directed Graphs\n",
    "A diagraph G has nodes and edges i.e. $G=(V, E)$, where $E = \\{(V_k, V_W), ..., (V_i, V_j)\\}$ is a set of ordered couples between two nodes belonging to $V$.\n",
    "\n",
    "$(V_k, V_W)$: The head is $V_W$ and the tail is $V_k$, the node $V_k$ goes into $V_W$\n",
    "\n",
    "### Indegree\n",
    "For a vertex $v$, the number of head ends adjacent to $v$ is called the **indegree $deg^-(v)$**.\n",
    "\n",
    "### Outdegree\n",
    "The number of tail ends adjacent to $v$ is called the **outdegree $deg^+(v)$**\n",
    "\n",
    "*Creating a diagraph is very similar to creating a regular graph*"
   ]
  },
  {
   "cell_type": "code",
   "execution_count": 5,
   "metadata": {},
   "outputs": [],
   "source": [
    "G =  nx.DiGraph()\n",
    "\n",
    "V = {'Dublin', 'Paris', 'Milan', 'Rome'}\n",
    "E = [('Milan', 'Dublin'), \n",
    "     ('Paris', 'Milan'),\n",
    "     ('Paris', 'Dublin'),\n",
    "     ('Milan', 'Rome')]\n",
    "G.add_nodes_from(V)\n",
    "G.add_edges_from(E)"
   ]
  },
  {
   "cell_type": "code",
   "execution_count": 8,
   "metadata": {},
   "outputs": [
    {
     "name": "stdout",
     "output_type": "stream",
     "text": [
      "In Degrees: {'Paris': 0, 'Rome': 1, 'Dublin': 2, 'Milan': 1}\n",
      "Out Degree: {'Paris': 2, 'Rome': 0, 'Dublin': 0, 'Milan': 2}\n"
     ]
    }
   ],
   "source": [
    "# couting degrees\n",
    "print('In Degrees:', {node: G.in_degree(node) for node in G.nodes})\n",
    "\n",
    "print('Out Degree:', {node: G.out_degree(node) for node in G.nodes})"
   ]
  },
  {
   "cell_type": "markdown",
   "metadata": {},
   "source": [
    "## Multigraph\n",
    "\n",
    "Generalization of graphs that allows multiple edges to have same pair of start and end notes. \n",
    "\n",
    "$G=(V, E)$, where $V$ is a set of nodes and $E$ is a multi-set of edges. Directed-Multigraphs also exist."
   ]
  },
  {
   "cell_type": "code",
   "execution_count": 9,
   "metadata": {},
   "outputs": [
    {
     "data": {
      "text/plain": [
       "[0, 1, 0, 0, 0, 1]"
      ]
     },
     "execution_count": 9,
     "metadata": {},
     "output_type": "execute_result"
    }
   ],
   "source": [
    "directed_multi_graph = nx.MultiDiGraph()\n",
    "undirected_multi_graph = nx.MultiGraph()\n",
    "\n",
    "V = {'Dublin', 'Paris', 'Milan', 'Rome'}\n",
    "E = [('Milan', 'Dublin'),\n",
    "     ('Milan', 'Dublin'),\n",
    "     ('Paris', 'Milan'),\n",
    "     ('Paris', 'Dublin'),\n",
    "     ('Milan', 'Rome'),\n",
    "     ('Milan', 'Rome')]\n",
    "\n",
    "directed_multi_graph.add_nodes_from(V)\n",
    "directed_multi_graph.add_edges_from(E)\n",
    "\n",
    "undirected_multi_graph.add_nodes_from(V)\n",
    "undirected_multi_graph.add_edges_from(E)"
   ]
  },
  {
   "cell_type": "markdown",
   "metadata": {},
   "source": [
    "### Weighted Graphs\n",
    "\n",
    "1. Edge-Weighted Graph (weighted graph): $G=(V, E, w)$ where $V$ is a set of nodes, $E$ is a set of edges, and $w:E \\rightarrow \\mathbb{R}$ is the weighted function that assignes at each edge $e \\in E$ a weight expressed as a real number.\n",
    "\n",
    "2. Node-weighted graph: $G=(V, E, w)$ but in this case $w:V \\rightarrow \\mathbb{R}$ is the weight function that assigns at each node $v \\in V$ a weight expressed as a real number.\n",
    "\n",
    "### More Terminology\n",
    "1. Directed Weighted Graph.\n",
    "2. Undirected Weighted Graph.\n",
    "3. Weighted Multigraph.\n",
    "4. Directed Weighted Multigraph.\n",
    "5. Undirected Weighted Multigraph.\n"
   ]
  },
  {
   "cell_type": "code",
   "execution_count": 10,
   "metadata": {},
   "outputs": [],
   "source": [
    "G = nx.DiGraph()\n",
    "V = {'Dublin', 'Paris', 'Milan', 'Rome'}\n",
    "E = [('Milan','Dublin', 19), ('Paris','Milan', 8),\n",
    "('Paris','Dublin', 11), ('Milan','Rome', 5)]\n",
    "G.add_nodes_from(V)\n",
    "G.add_weighted_edges_from(E)"
   ]
  },
  {
   "cell_type": "markdown",
   "metadata": {},
   "source": [
    "## Bipartite Graph\n",
    "A more general form of these graphs is K-Partied graph. The vertices in these graphs are partitioned into `k` set of nodes, respectively. \n",
    "**Edges are allowed only between the different sets and NOT within the node of same sets**"
   ]
  },
  {
   "cell_type": "code",
   "execution_count": 21,
   "metadata": {},
   "outputs": [],
   "source": [
    "n_nodes = 10\n",
    "n_edges = 12\n",
    "bottom_nodes = [i for i in range(n_nodes) if i%2 == 0]\n",
    "top_nodes = [i for i in range(n_nodes) if i%2 != 0]\n",
    "\n",
    "edges = list(zip(np.random.choice(bottom_nodes, n_edges), np.random.choice(top_nodes, n_edges)))\n",
    "\n",
    "B = nx.Graph()\n",
    "B.add_nodes_from(bottom_nodes, bipartite=0)\n",
    "B.add_nodes_from(top_nodes, bipartite=1)\n",
    "B.add_edges_from(edges)"
   ]
  },
  {
   "cell_type": "code",
   "execution_count": 22,
   "metadata": {},
   "outputs": [
    {
     "data": {
      "image/png": "[encoded data removed]",
      "text/plain": [
       "<Figure size 640x480 with 1 Axes>"
      ]
     },
     "metadata": {},
     "output_type": "display_data"
    }
   ],
   "source": [
    "from networkx.drawing.layout import bipartite_layout\n",
    "pos = bipartite_layout(B, bottom_nodes)\n",
    "nx.draw_networkx(B, pos=pos)"
   ]
  },
  {
   "cell_type": "markdown",
   "metadata": {},
   "source": [
    "## Adjacency Matrix\n",
    "The adjecency matrix $M$ of a graph $G=(V, E)$ is a square matrix $(|V| \\times |V|)$ such that  its element $M_{ij}$ is 1 when there is an edge from node $i$ to node $j$, and 0 when there is no edge.\n",
    "\n",
    "### Properties\n",
    "1. Adjacency Matrices for undirected graphs are always symmetric.\n",
    "2. Symmetry for the adjacency matrix for directed graphs is not guaranteed. \n",
    "3. Multi-graphs can have the adjacency values greater than 1 as multiple edges can exist.\n",
    "4. For weighted graphs it's equal to the weight of the edge."
   ]
  },
  {
   "cell_type": "code",
   "execution_count": 32,
   "metadata": {},
   "outputs": [
    {
     "name": "stdout",
     "output_type": "stream",
     "text": [
      "Pandas adjacency\n",
      "      0    2    4    6    8    1    3    5    7    9\n",
      "0  0.0  0.0  0.0  0.0  0.0  0.0  1.0  0.0  0.0  0.0\n",
      "2  0.0  0.0  0.0  0.0  0.0  0.0  1.0  0.0  1.0  1.0\n",
      "4  0.0  0.0  0.0  0.0  0.0  1.0  1.0  0.0  0.0  0.0\n",
      "6  0.0  0.0  0.0  0.0  0.0  0.0  1.0  0.0  0.0  1.0\n",
      "8  0.0  0.0  0.0  0.0  0.0  1.0  0.0  0.0  0.0  0.0\n",
      "1  0.0  0.0  1.0  0.0  1.0  0.0  0.0  0.0  0.0  0.0\n",
      "3  1.0  1.0  1.0  1.0  0.0  0.0  0.0  0.0  0.0  0.0\n",
      "5  0.0  0.0  0.0  0.0  0.0  0.0  0.0  0.0  0.0  0.0\n",
      "7  0.0  1.0  0.0  0.0  0.0  0.0  0.0  0.0  0.0  0.0\n",
      "9  0.0  1.0  0.0  1.0  0.0  0.0  0.0  0.0  0.0  0.0\n",
      "Numpy adjacency \n",
      " The order of the nodes: [0, 2, 4, 6, 8, 1, 3, 5, 7, 9] \n",
      " [[0. 0. 0. 0. 0. 0. 1. 0. 0. 0.]\n",
      " [0. 0. 0. 0. 0. 0. 1. 0. 1. 1.]\n",
      " [0. 0. 0. 0. 0. 1. 1. 0. 0. 0.]\n",
      " [0. 0. 0. 0. 0. 0. 1. 0. 0. 1.]\n",
      " [0. 0. 0. 0. 0. 1. 0. 0. 0. 0.]\n",
      " [0. 0. 1. 0. 1. 0. 0. 0. 0. 0.]\n",
      " [1. 1. 1. 1. 0. 0. 0. 0. 0. 0.]\n",
      " [0. 0. 0. 0. 0. 0. 0. 0. 0. 0.]\n",
      " [0. 1. 0. 0. 0. 0. 0. 0. 0. 0.]\n",
      " [0. 1. 0. 1. 0. 0. 0. 0. 0. 0.]]\n"
     ]
    }
   ],
   "source": [
    "# getting the adjacency matrix \n",
    "print('Pandas adjacency\\n', nx.to_pandas_adjacency(B))\n",
    "\n",
    "print('Numpy adjacency', '\\n The order of the nodes:', B.nodes, '\\n',nx.to_numpy_array(B))"
   ]
  },
  {
   "cell_type": "markdown",
   "metadata": {},
   "source": [
    "## Edge List\n",
    "The edge list $L$ of graph $G=(V, E)$ is a list of size $|E|$ matrix such that its element $L_i$ is a couple representing the tail and the end node of the edge $i$.\n"
   ]
  },
  {
   "cell_type": "code",
   "execution_count": 33,
   "metadata": {},
   "outputs": [
    {
     "name": "stdout",
     "output_type": "stream",
     "text": [
      "   source  target\n",
      "0       0       3\n",
      "1       2       3\n",
      "2       2       9\n",
      "3       2       7\n",
      "4       4       3\n",
      "5       4       1\n",
      "6       6       3\n",
      "7       6       9\n",
      "8       8       1\n"
     ]
    }
   ],
   "source": [
    "print(nx.to_pandas_edgelist(B))"
   ]
  },
  {
   "cell_type": "code",
   "execution_count": 41,
   "metadata": {},
   "outputs": [],
   "source": [
    "## Plotting simple graphs with networkx\n",
    "G = nx.Graph()\n",
    "V = {'Paris', 'Dublin', 'Milan', 'Rome'}\n",
    "\n",
    "# each element of the edge is\n",
    "E = [('Paris', 'Dublin', 11),\n",
    "     ('Paris', 'Milan', 8),\n",
    "     ('Milan', 'Rome', 5), \n",
    "     ('Milan', 'Dublin', 19)]\n",
    "\n",
    "G.add_nodes_from(V)\n",
    "G.add_weighted_edges_from(E) \n",
    "node_position = {\"Paris\": [0, 0], \"Dublin\":[0, 1], \"Milan\": [1, 0], \"Rome\": [1, 1]}"
   ]
  },
  {
   "cell_type": "code",
   "execution_count": 45,
   "metadata": {},
   "outputs": [
    {
     "data": {
      "text/plain": [
       "{('Paris', 'Dublin'): Text(0.0, 0.5, '11'),\n",
       " ('Paris', 'Milan'): Text(0.5, 0.0, '8'),\n",
       " ('Rome', 'Milan'): Text(1.0, 0.5, '5'),\n",
       " ('Dublin', 'Milan'): Text(0.5, 0.5, '19')}"
      ]
     },
     "execution_count": 45,
     "metadata": {},
     "output_type": "execute_result"
    },
    {
     "data": {
      "image/png": "[encoded data removed]",
      "text/plain": [
       "<Figure size 640x480 with 1 Axes>"
      ]
     },
     "metadata": {},
     "output_type": "display_data"
    }
   ],
   "source": [
    "edge_labels = nx.get_edge_attributes(G, 'weight')\n",
    "nx.draw(G, node_position, with_labels=True, edge_color='gray')\n",
    "nx.draw_networkx_edge_labels(G, node_position, edge_labels=edge_labels)\n"
   ]
  },
  {
   "cell_type": "markdown",
   "metadata": {},
   "source": [
    "## Graph Properties\n",
    "Graph derived metrics can be grouped into four categories:\n",
    "* Integration Metrics: Measure of how nodes tend to be interconnected to each other.\n",
    "* Segregation Metrics: Quantification of the presence of groups of interconnected nodes, known as communities or modules within a network.\n",
    "* Centrality Metrics: Assess the importance of individual nodes inside a network.\n",
    "* Resilience Metrics: Measure of the extent of network's ability to maintain and adapt its operational performance when facing failures or adverse conditions.\n",
    "\n",
    "**GLOBAL**: Metrics expressing a measure of an overall network.\n",
    "\n",
    "**LOCAL**: Metrics measure values of individual network elements.\n",
    "\n",
    "\n",
    "## Integration Metrics\n",
    "\n",
    "### Distance, path and shortest path\n",
    "\n",
    "**Distance:** The concept of distance in a graph is often related to the number of edges to traverse in order to reach a target node from a given source node.\n",
    "\n",
    "**Path:** The set of edges connecting node $i$ to node $j$ is called a path.\n",
    "\n",
    "**Diameter:** The number of edges contained in the longest shortest path amongst all shortest paths.\n",
    "\n",
    "\n",
    "### Characteristic path length\n",
    "It is the average of all the shortest path lengths between all possible pair of nodes. \n",
    "\n",
    "$\\frac{1}{q(q-1)} \\sum_{i \\in V} l_i$\n",
    "\n",
    "Here, $V$ is the set of nodes in the graph and $q=|V|$ represents its order.\n",
    "\n",
    "Networks having shorter characteristic path lengths promote the quick transfer of information and reduce costs.\n",
    "\n",
    "However, this metric cannot be always defined since it is not possible to compute a path among all the nodes in disconnected graphs.\n",
    "\n",
    "### Global efficiency \n",
    "It's the average of the inverse shortest path length for all pairs of nodes. \n",
    "\n",
    "$\\frac{1}{q(q-1)} \\sum_{i \\in V} \\frac{1}{l_{ij}}$\n",
    "\n",
    "$l_{ij}$: It is the shortest path between node `i` and node `j`.\n",
    "\n",
    "### Local efficiency \n",
    "It is calculated by considering only the neighborhood of the node in the calculation without the node itself. "
   ]
  },
  {
   "cell_type": "code",
   "execution_count": 50,
   "metadata": {},
   "outputs": [
    {
     "name": "stdout",
     "output_type": "stream",
     "text": [
      "Path between Dublin and Tokyo: [1, 3, 4, 5, 7]\n"
     ]
    }
   ],
   "source": [
    "G = nx.Graph()\n",
    "nodes = {\n",
    "    1: 'Dublin',\n",
    "    2: 'Paris',\n",
    "    3: 'Milan',\n",
    "    4: 'Rome',\n",
    "    5: 'Naples',\n",
    "    6: 'Moscow',\n",
    "    7: 'Tokyo'\n",
    "}\n",
    "G.add_nodes_from(nodes.keys())\n",
    "G.add_edges_from([(1,2),(1,3),(2,3),(3,4),(4,5),(5,6),(6,7),(7,5)])\n",
    "\n",
    "path = nx.shortest_path(G, source=1, target=7)\n",
    "print(f'Path between Dublin and Tokyo: {path}')"
   ]
  },
  {
   "cell_type": "markdown",
   "metadata": {},
   "source": [
    "# Segregation Metrics\n",
    "\n",
    "## Clustering Coefficient\n",
    "Measure of how much nodes cluster together. It is defined as the fraction of triangles around a node and \n",
    "is equivalent to the fraction of the node's neighbours that are neighbors of each other.\n",
    "\n",
    "## Transitivity\n",
    "Variant of the clustering coefficient. This can be defined as the ratio between the observed number of closed triplets and maximum possible number of closed triplets in the graph.\n",
    "\n",
    "## Modularity\n",
    "It was designed to quantify the division of a network in aggregated sets of highly interconnected nodes, commonly known as modules, communities, groups or clusters. \n",
    "\n",
    "\n",
    "Segregation metrics help to understand the presence of groups. However, each node has its own importance and to quantify this importance we use the centrality metrics.\n",
    "\n",
    "\n",
    "# Centrality Metrics\n",
    "\n",
    "## Degree Centrality\n",
    "Measures the number of incident edges on a certain node $i$. If a graph is directed, the $in-degree centrality$ and $out-degree centrality$ will be considered for each node.\n",
    "\n",
    "## Closeness Centrality\n",
    "It quantifies how much a node is close to other nodes. It refers to the average distance of a node $i$ to all other nodes in the network. \n",
    "$l_{ij}$: Shortest path between node $i$ and $j$, the closeness centrality is defined as follows:\n",
    "\n",
    "$$\\frac{1}{\\sum_{i \\in V, i!=j} l_{ij}}$$\n",
    "\n",
    "## Betweenness Centrality\n",
    "Evaluates how much a node acts as a bridge between other nodes. If $L_{wj}$ is the total number of shortest paths between node $w$ and node $j$ and $L_{wj}(i)$ is the total number of shortest paths between $w$ and $j$ passing through node $i$, then the betweenness centrality is defined as:\n",
    "$$\\sum_{w!=i!=j} \\frac{L_{wj}(i)}{L_{wj}}$$"
   ]
  },
  {
   "cell_type": "markdown",
   "metadata": {},
   "source": [
    "# Resilience Metrics\n",
    "\n",
    "## Assortativity Coefficient\n",
    "Assortativity is used to quantify the tendency of nodes being connected to similar nodes. One of the most commonly used methods is the **Pearson correlation coefficient** between the degrees of directly connected nodes.\n",
    "\n"
   ]
  },
  {
   "cell_type": "code",
   "execution_count": 51,
   "metadata": {},
   "outputs": [],
   "source": [
    "complete_graph = nx.complete_graph(n=7)"
   ]
  },
  {
   "cell_type": "markdown",
   "metadata": {},
   "source": [
    "**Clique**: A clique C, in an undirected graph is defined a subset of its vertices, $C \\subset V$, such that every two distinct vertices are adjacent. \n",
    "\n",
    "# Generative Graph Models\n",
    "Graphs that follow probabilistic and generative models to grow themselves. \n",
    "\n",
    "## Watts and Strogatz \n",
    "They are used to study the behaviour of **small-world networks** i.e. it resembles up to an extent how the social network grows. The graph is generated by displacing $n$ nodes in a ring and connecting each node with its $k$ neighbours. Each edge of the graph then has a probability $p$ of being rewired to a regular network $(p=0)$ to a complete random network $(p=1)$n\n",
    "\n",
    "## Barabasi-Albert (1999)\n",
    "Creation of random scale free networks by using a preferential attachment schema, where a network is created by progressively adding new nodes that have more neighbours. \n",
    "The probability for the new node to be attached to the existing node $i$ depends on the degree for the 'i-th' node.\n",
    "\n",
    "$$p_i = \\frac{k_i}{\\sum k_j}$$\n",
    "\n"
   ]
  },
  {
   "cell_type": "code",
   "execution_count": 24,
   "metadata": {},
   "outputs": [],
   "source": [
    "from scipy.io import mmread"
   ]
  },
  {
   "cell_type": "code",
   "execution_count": 25,
   "metadata": {},
   "outputs": [],
   "source": [
    "adj_matrix = mmread(\"../../Desktop/ca-AstroPh/ca-AstroPh.mtx\")\n",
    "graph = nx.from_scipy_sparse_array(adj_matrix)\n"
   ]
  },
  {
   "cell_type": "code",
   "execution_count": 26,
   "metadata": {},
   "outputs": [
    {
     "name": "stdout",
     "output_type": "stream",
     "text": [
      "edges: 196972, nodes: 17903\n"
     ]
    }
   ],
   "source": [
    "print(f'edges: {len(graph.edges)}, nodes: {len(graph.nodes)}')\n",
    "# stats = pd.DataFrame({\n",
    "#     'centrality': nx.centrality.betweenness_centrality(graph),\n",
    "#     'c_i': nx.clustering(graph),\n",
    "\n",
    "#     'degree': nx.degree(graph)\n",
    "# })"
   ]
  },
  {
   "cell_type": "code",
   "execution_count": 27,
   "metadata": {},
   "outputs": [
    {
     "data": {
      "text/plain": [
       "50"
      ]
     },
     "execution_count": 27,
     "metadata": {},
     "output_type": "execute_result"
    }
   ],
   "source": [
    "neighbours = [n for n in nx.neighbors(graph, 6933)]\n",
    "round(len(neighbours)*0.1)"
   ]
  }
 ],
 "metadata": {
  "kernelspec": {
   "display_name": "graph_learn",
   "language": "python",
   "name": "python3"
  },
  "language_info": {
   "codemirror_mode": {
    "name": "ipython",
    "version": 3
   },
   "file_extension": ".py",
   "mimetype": "text/x-python",
   "name": "python",
   "nbconvert_exporter": "python",
   "pygments_lexer": "ipython3",
   "version": "3.8.18"
  }
 },
 "nbformat": 4,
 "nbformat_minor": 2
}
